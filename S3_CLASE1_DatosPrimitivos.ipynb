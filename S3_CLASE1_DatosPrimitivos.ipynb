{
  "nbformat": 4,
  "nbformat_minor": 0,
  "metadata": {
    "colab": {
      "provenance": [],
      "include_colab_link": true
    },
    "kernelspec": {
      "name": "python3",
      "display_name": "Python 3"
    },
    "language_info": {
      "name": "python"
    }
  },
  "cells": [
    {
      "cell_type": "markdown",
      "metadata": {
        "id": "view-in-github",
        "colab_type": "text"
      },
      "source": [
        "<a href=\"https://colab.research.google.com/github/JECABRIFA/Diplomado_IA/blob/main/S3_CLASE1_DatosPrimitivos.ipynb\" target=\"_parent\"><img src=\"https://colab.research.google.com/assets/colab-badge.svg\" alt=\"Open In Colab\"/></a>"
      ]
    },
    {
      "cell_type": "code",
      "source": [
        "import this"
      ],
      "metadata": {
        "id": "INgY8eBcOcJE",
        "colab": {
          "base_uri": "https://localhost:8080/"
        },
        "outputId": "206453e0-394a-435d-fc24-1c67feebae2f"
      },
      "execution_count": 1,
      "outputs": [
        {
          "output_type": "stream",
          "name": "stdout",
          "text": [
            "The Zen of Python, by Tim Peters\n",
            "\n",
            "Beautiful is better than ugly.\n",
            "Explicit is better than implicit.\n",
            "Simple is better than complex.\n",
            "Complex is better than complicated.\n",
            "Flat is better than nested.\n",
            "Sparse is better than dense.\n",
            "Readability counts.\n",
            "Special cases aren't special enough to break the rules.\n",
            "Although practicality beats purity.\n",
            "Errors should never pass silently.\n",
            "Unless explicitly silenced.\n",
            "In the face of ambiguity, refuse the temptation to guess.\n",
            "There should be one-- and preferably only one --obvious way to do it.\n",
            "Although that way may not be obvious at first unless you're Dutch.\n",
            "Now is better than never.\n",
            "Although never is often better than *right* now.\n",
            "If the implementation is hard to explain, it's a bad idea.\n",
            "If the implementation is easy to explain, it may be a good idea.\n",
            "Namespaces are one honking great idea -- let's do more of those!\n"
          ]
        }
      ]
    },
    {
      "cell_type": "markdown",
      "source": [
        "# Paso 1. Declaración de variables"
      ],
      "metadata": {
        "id": "3l6JJPOhPUHS"
      }
    },
    {
      "cell_type": "code",
      "execution_count": 2,
      "metadata": {
        "id": "qAf9dBUzN79j"
      },
      "outputs": [],
      "source": [
        "## ZEN 2.  Explicit is better than implicit.\n",
        "edad = 25            # Entero (int)\n",
        "altura = 1.75        # Flotante (float)\n",
        "nombre = \"Carlos\"    # Cadena de texto (string)\n",
        "es_estudiante = True # Booleano (bool)"
      ]
    },
    {
      "cell_type": "markdown",
      "source": [
        "# Paso 2. Leer el tipo de Variable"
      ],
      "metadata": {
        "id": "IZAVuwQqPf2j"
      }
    },
    {
      "cell_type": "code",
      "source": [
        "# Para leer el tipo de la variable\n",
        "type(edad)\n",
        "type(altura)\n",
        "type(nombre)\n",
        "type(es_estudiante)"
      ],
      "metadata": {
        "id": "dgw2Lk9KPPsN",
        "colab": {
          "base_uri": "https://localhost:8080/"
        },
        "outputId": "daa51475-2e11-43b2-fef3-e414f46fcdc4"
      },
      "execution_count": 6,
      "outputs": [
        {
          "output_type": "execute_result",
          "data": {
            "text/plain": [
              "bool"
            ]
          },
          "metadata": {},
          "execution_count": 6
        }
      ]
    },
    {
      "cell_type": "code",
      "source": [
        "# Actividad 2. Imprima el tipo de las otras variables"
      ],
      "metadata": {
        "id": "1ULV9k1FPnhq"
      },
      "execution_count": 4,
      "outputs": []
    },
    {
      "cell_type": "markdown",
      "source": [
        "# Paso 3. Convertir\n",
        "\n",
        "para convertir se usa el tipo deseado y la variable en el parentesis:\n",
        "\n",
        "* int(variable)\n",
        "* float(variable)\n",
        "* str(variable)\n",
        "\n",
        "## Errores cómunes\n",
        "\n",
        "*  int('a')\n",
        "## Actividad\n",
        "* Convierte la edad en un número flotante e imprímela.\n",
        "* Convierte la altura en un número entero e imprímela.\n",
        "* Convierte la edad en una cadena de texto e imprímela.\n",
        "* Convierte el valor booleano es_estudiante en un número entero y en una cadena de texto, mostrando los resultados."
      ],
      "metadata": {
        "id": "dZvDO0cNPxIy"
      }
    },
    {
      "cell_type": "code",
      "source": [
        "int('1')"
      ],
      "metadata": {
        "id": "wbThLYmLQ_Mi",
        "colab": {
          "base_uri": "https://localhost:8080/"
        },
        "outputId": "259637ea-2482-4b8a-8a7e-21c8db4cf300"
      },
      "execution_count": 7,
      "outputs": [
        {
          "output_type": "execute_result",
          "data": {
            "text/plain": [
              "1"
            ]
          },
          "metadata": {},
          "execution_count": 7
        }
      ]
    },
    {
      "cell_type": "code",
      "source": [
        "int('a')"
      ],
      "metadata": {
        "id": "ha9AFOuEQ8Q5",
        "colab": {
          "base_uri": "https://localhost:8080/",
          "height": 141
        },
        "outputId": "7bf0ee3a-afe6-40c3-8d7a-bb3f28abd122"
      },
      "execution_count": 8,
      "outputs": [
        {
          "output_type": "error",
          "ename": "ValueError",
          "evalue": "invalid literal for int() with base 10: 'a'",
          "traceback": [
            "\u001b[0;31m---------------------------------------------------------------------------\u001b[0m",
            "\u001b[0;31mValueError\u001b[0m                                Traceback (most recent call last)",
            "\u001b[0;32m<ipython-input-8-233884bacd4e>\u001b[0m in \u001b[0;36m<cell line: 0>\u001b[0;34m()\u001b[0m\n\u001b[0;32m----> 1\u001b[0;31m \u001b[0mint\u001b[0m\u001b[0;34m(\u001b[0m\u001b[0;34m'a'\u001b[0m\u001b[0;34m)\u001b[0m\u001b[0;34m\u001b[0m\u001b[0;34m\u001b[0m\u001b[0m\n\u001b[0m",
            "\u001b[0;31mValueError\u001b[0m: invalid literal for int() with base 10: 'a'"
          ]
        }
      ]
    },
    {
      "cell_type": "code",
      "source": [
        "float(edad)"
      ],
      "metadata": {
        "colab": {
          "base_uri": "https://localhost:8080/"
        },
        "id": "ZI2Aj9ZUd00P",
        "outputId": "c5419f92-3a22-4d28-b9e0-04297d85e374"
      },
      "execution_count": 9,
      "outputs": [
        {
          "output_type": "execute_result",
          "data": {
            "text/plain": [
              "25.0"
            ]
          },
          "metadata": {},
          "execution_count": 9
        }
      ]
    },
    {
      "cell_type": "code",
      "source": [
        "edad"
      ],
      "metadata": {
        "colab": {
          "base_uri": "https://localhost:8080/"
        },
        "id": "EFkFh4D1eD5v",
        "outputId": "57e1bb85-75f3-491c-927b-2ec3ce50f359"
      },
      "execution_count": 10,
      "outputs": [
        {
          "output_type": "execute_result",
          "data": {
            "text/plain": [
              "25"
            ]
          },
          "metadata": {},
          "execution_count": 10
        }
      ]
    },
    {
      "cell_type": "code",
      "source": [
        "int(altura)"
      ],
      "metadata": {
        "colab": {
          "base_uri": "https://localhost:8080/"
        },
        "id": "K3wdk_VmeJl2",
        "outputId": "b02a7926-e1c0-4433-852c-337fd931f5d1"
      },
      "execution_count": 11,
      "outputs": [
        {
          "output_type": "execute_result",
          "data": {
            "text/plain": [
              "1"
            ]
          },
          "metadata": {},
          "execution_count": 11
        }
      ]
    },
    {
      "cell_type": "code",
      "source": [
        "round(altura)"
      ],
      "metadata": {
        "colab": {
          "base_uri": "https://localhost:8080/"
        },
        "id": "r2wLTm-5efdH",
        "outputId": "acdea5ae-6799-4822-930d-01e208d5d4a4"
      },
      "execution_count": 12,
      "outputs": [
        {
          "output_type": "execute_result",
          "data": {
            "text/plain": [
              "2"
            ]
          },
          "metadata": {},
          "execution_count": 12
        }
      ]
    },
    {
      "cell_type": "code",
      "source": [
        "float(altura)\n"
      ],
      "metadata": {
        "colab": {
          "base_uri": "https://localhost:8080/"
        },
        "id": "pK9LXLEDes8t",
        "outputId": "a941dba7-a327-4674-d5ab-cd5e3d009a75"
      },
      "execution_count": 13,
      "outputs": [
        {
          "output_type": "execute_result",
          "data": {
            "text/plain": [
              "1.75"
            ]
          },
          "metadata": {},
          "execution_count": 13
        }
      ]
    },
    {
      "cell_type": "code",
      "source": [
        "int(es_estudiante)\n"
      ],
      "metadata": {
        "colab": {
          "base_uri": "https://localhost:8080/"
        },
        "id": "QJN1nvbhe0dc",
        "outputId": "e7538d86-c275-4510-f6cb-b26f18333e3a"
      },
      "execution_count": 14,
      "outputs": [
        {
          "output_type": "execute_result",
          "data": {
            "text/plain": [
              "1"
            ]
          },
          "metadata": {},
          "execution_count": 14
        }
      ]
    },
    {
      "cell_type": "code",
      "source": [
        "estado=0"
      ],
      "metadata": {
        "id": "EDLeeuWEfZFm"
      },
      "execution_count": 16,
      "outputs": []
    },
    {
      "cell_type": "code",
      "source": [
        "bool(estado)"
      ],
      "metadata": {
        "colab": {
          "base_uri": "https://localhost:8080/"
        },
        "id": "Hha7K7-Dffir",
        "outputId": "4ca40686-7ba5-486f-f417-a8faf20cd73a"
      },
      "execution_count": 17,
      "outputs": [
        {
          "output_type": "execute_result",
          "data": {
            "text/plain": [
              "False"
            ]
          },
          "metadata": {},
          "execution_count": 17
        }
      ]
    }
  ]
}